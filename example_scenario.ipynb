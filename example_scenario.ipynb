{
 "cells": [
  {
   "cell_type": "markdown",
   "metadata": {},
   "source": [
    "## Scenario\n",
    "\n",
    "In short: read records from multiple JSON and Parquet files with different schemas, explode/unnest and aggregate the data, and write the results to Postgres.\n",
    "\n",
    "### Data\n",
    "\n",
    "The data generated with `generate_example_data.py` for this scenario is in the `data/` directory and contains 25 JSON files and 5 Parquet files. Each JSON file and each row in the Parquet files contains a record with the following fields:\n",
    "| Field | Optional | Data type | Possible values |\n",
    "| --- | --- | --- | --- |\n",
    "| id |  | int |  | [1, 600)\n",
    "| timestamp |  | str | ISO format timestamp |\n",
    "| col1 | x | float | [100, 200) |\n",
    "| col2 | x | float | [200, 300) |\n",
    "| col3 | x | float | [300, 400) |\n",
    "| tags | x | List[str] | \"a\", \"b\", \"c\", \"d\" |\n",
    "\n",
    "### Task 1\n",
    "\n",
    "Find the count and average of values in the fields `col1`, `col2`, and `col3` aggregated by the different tags. Write the result to Postgres as a new table.\n",
    "\n",
    "### Task 2\n",
    "\n",
    "Find the most common tag(s) for every month (ignoring the year). Write the result to Postgres as a new table.\n",
    "\n",
    "### Plan of attack\n",
    "\n",
    "We'll work through this problem in the following steps:\n",
    "1. read JSON and Parquet files and combine schemas,\n",
    "2. explode tags and get Task 1 aggregates,\n",
    "3. convert str timestamp to actual timestamp and extract month,\n",
    "4. get tag ranks by month and get top tags as a list by month for Task 2,\n",
    "5. connect and write results to Postgres."
   ]
  },
  {
   "cell_type": "code",
   "execution_count": 1,
   "metadata": {},
   "outputs": [],
   "source": [
    "import duckdb"
   ]
  },
  {
   "cell_type": "markdown",
   "metadata": {},
   "source": [
    "## 1. Read JSON and Parquet files and combine schemas\n",
    "\n",
    "DuckDB supports globbing so reading multiple files is as easy as reading a single file. Since our files can have different schemas, we need to use the functions `read_json_auto()` and `read_parquet()` in order to use the parameter `union_by_name = true`."
   ]
  },
  {
   "cell_type": "code",
   "execution_count": 8,
   "metadata": {},
   "outputs": [
    {
     "name": "stdout",
     "output_type": "stream",
     "text": [
      "┌───────┬─────────────────────┬──────────────┬────────────────────┬────────────────────┬────────────────────┐\n",
      "│  id   │      timestamp      │     tags     │        col3        │        col2        │        col1        │\n",
      "│ int64 │       varchar       │  varchar[]   │       double       │       double       │       double       │\n",
      "├───────┼─────────────────────┼──────────────┼────────────────────┼────────────────────┼────────────────────┤\n",
      "│   201 │ 2023-02-14T23:43:06 │ [c, d, b, a] │               NULL │               NULL │               NULL │\n",
      "│   202 │ 2023-12-10T04:20:09 │ [c, b]       │  344.4384086978107 │ 283.82011872170756 │               NULL │\n",
      "│   203 │ 2023-04-12T19:11:56 │ [a, d, b]    │  300.2019868412024 │ 250.26658507608727 │               NULL │\n",
      "│   204 │ 2023-11-29T05:50:49 │ NULL         │               NULL │               NULL │ 160.47502928589932 │\n",
      "│   205 │ 2023-07-24T18:16:09 │ [a]          │  389.3784272049234 │  240.8342356007753 │ 134.37312613968828 │\n",
      "│   206 │ 2023-09-04T10:29:01 │ [c]          │   324.338604924361 │ 208.24491400067174 │  194.2817544975408 │\n",
      "│   207 │ 2023-06-29T14:47:20 │ NULL         │               NULL │   252.595532903578 │               NULL │\n",
      "│   208 │ 2023-03-20T09:52:24 │ NULL         │               NULL │  260.1927084588699 │  152.2301727102438 │\n",
      "│   209 │ 2023-02-10T11:53:49 │ [a]          │ 353.43832315246914 │ 204.93858983728282 │  181.7579978146064 │\n",
      "│   210 │ 2023-12-23T10:54:51 │ [b]          │               NULL │               NULL │               NULL │\n",
      "│    ·  │          ·          │  ·           │                 ·  │                 ·  │                 ·  │\n",
      "│    ·  │          ·          │  ·           │                 ·  │                 ·  │                 ·  │\n",
      "│    ·  │          ·          │  ·           │                 ·  │                 ·  │                 ·  │\n",
      "│   411 │ 2023-07-19T21:09:25 │ [b, c]       │               NULL │               NULL │               NULL │\n",
      "│   412 │ 2023-09-24T07:32:10 │ NULL         │  386.8530329142853 │               NULL │ 193.14706134250375 │\n",
      "│   413 │ 2023-06-15T16:05:54 │ NULL         │               NULL │ 214.20138714458002 │ 184.98080489022925 │\n",
      "│   414 │ 2023-05-25T08:00:07 │ [a]          │               NULL │               NULL │               NULL │\n",
      "│   415 │ 2023-07-06T07:45:21 │ [d, b]       │               NULL │               NULL │               NULL │\n",
      "│   416 │ 2023-12-02T11:19:26 │ [a]          │  357.7054058866162 │               NULL │               NULL │\n",
      "│   417 │ 2023-02-24T08:06:15 │ NULL         │               NULL │               NULL │               NULL │\n",
      "│   418 │ 2023-03-30T04:41:50 │ [c, d]       │               NULL │               NULL │ 149.57201430569862 │\n",
      "│   419 │ 2023-05-10T23:55:48 │ NULL         │               NULL │ 208.52386118256857 │ 137.67892579145462 │\n",
      "│   420 │ 2023-04-22T07:14:04 │ [b]          │               NULL │               NULL │ 174.51457740621757 │\n",
      "├───────┴─────────────────────┴──────────────┴────────────────────┴────────────────────┴────────────────────┤\n",
      "│ 100 rows (20 shown)                                                                             6 columns │\n",
      "└───────────────────────────────────────────────────────────────────────────────────────────────────────────┘\n",
      "\n"
     ]
    }
   ],
   "source": [
    "# Read all Parquet files:\n",
    "duckdb.sql(\"FROM read_parquet('data/*.parquet', union_by_name = true)\").show()"
   ]
  },
  {
   "cell_type": "code",
   "execution_count": 9,
   "metadata": {},
   "outputs": [
    {
     "name": "stdout",
     "output_type": "stream",
     "text": [
      "┌───────┬─────────────────────┬────────────────────┬────────────────────┬──────────────┬────────────────────┐\n",
      "│  id   │      timestamp      │        col1        │        col3        │     tags     │        col2        │\n",
      "│ int64 │       varchar       │       double       │       double       │  varchar[]   │       double       │\n",
      "├───────┼─────────────────────┼────────────────────┼────────────────────┼──────────────┼────────────────────┤\n",
      "│    10 │ 2023-03-19T15:02:04 │ 179.27596351197928 │  393.0434391894289 │ [d]          │               NULL │\n",
      "│     9 │ 2023-06-26T21:56:05 │ 164.56291322757346 │ 331.81802543751616 │ [d]          │               NULL │\n",
      "│     8 │ 2023-11-16T18:57:25 │               NULL │ 318.59194254112924 │ [b]          │               NULL │\n",
      "│     7 │ 2023-07-19T03:39:52 │               NULL │  344.1654722833825 │ [d, b]       │ 200.66933318979386 │\n",
      "│    19 │ 2023-03-27T05:11:16 │               NULL │               NULL │ NULL         │               NULL │\n",
      "│     6 │ 2023-06-22T00:39:21 │               NULL │ 390.15030359236647 │ [b, a]       │  224.4575259795596 │\n",
      "│    11 │ 2023-09-10T23:15:24 │ 186.15046259230328 │  392.4160542803787 │ NULL         │               NULL │\n",
      "│    15 │ 2023-08-01T02:31:17 │ 113.93401640686474 │  346.9216168369585 │ [b, c]       │ 222.26296875807452 │\n",
      "│     2 │ 2023-05-14T23:19:16 │               NULL │               NULL │ [a, b]       │               NULL │\n",
      "│    14 │ 2023-04-10T06:14:38 │  116.9226979189446 │  392.1242306717187 │ [b, c, a]    │               NULL │\n",
      "│     · │          ·          │                 ·  │          ·         │     ·        │                 ·  │\n",
      "│     · │          ·          │                 ·  │          ·         │     ·        │                 ·  │\n",
      "│     · │          ·          │                 ·  │          ·         │     ·        │                 ·  │\n",
      "│    17 │ 2023-08-01T22:57:43 │               NULL │ 385.38834394331343 │ [d, a, b]    │               NULL │\n",
      "│     4 │ 2023-02-01T09:24:39 │ 153.48516545739275 │               NULL │ [b, a, c]    │  264.8946250873081 │\n",
      "│    18 │ 2023-01-06T14:51:50 │               NULL │               NULL │ [a]          │  254.9963154458957 │\n",
      "│    12 │ 2023-11-04T07:11:02 │ 113.20360980792054 │               NULL │ [a, c, d, b] │ 228.57579672980867 │\n",
      "│    25 │ 2023-09-18T01:12:56 │ 143.98641559064527 │               NULL │ [d, b]       │  287.1746673674819 │\n",
      "│    23 │ 2023-01-06T16:46:58 │ 120.81749276723106 │  319.8418122378131 │ [a, d]       │               NULL │\n",
      "│    24 │ 2023-05-09T11:39:56 │ 174.87209300422913 │  394.4254821220413 │ NULL         │ 256.55962054219145 │\n",
      "│    13 │ 2023-12-12T19:54:09 │ 135.60999299842663 │  334.7288854427639 │ [c, b]       │  234.9400446442523 │\n",
      "│    21 │ 2023-09-09T21:54:57 │               NULL │               NULL │ [d, b, c, a] │               NULL │\n",
      "│     5 │ 2023-02-10T04:00:55 │               NULL │               NULL │ NULL         │               NULL │\n",
      "├───────┴─────────────────────┴────────────────────┴────────────────────┴──────────────┴────────────────────┤\n",
      "│ 25 rows (20 shown)                                                                              6 columns │\n",
      "└───────────────────────────────────────────────────────────────────────────────────────────────────────────┘\n",
      "\n"
     ]
    }
   ],
   "source": [
    "# Read all JSON files:\n",
    "duckdb.sql(\"FROM read_json_auto('data/*.json', union_by_name = true)\").show()"
   ]
  },
  {
   "cell_type": "code",
   "execution_count": 11,
   "metadata": {},
   "outputs": [
    {
     "name": "stdout",
     "output_type": "stream",
     "text": [
      "┌───────┬─────────────────────┬──────────────┬────────────────────┬────────────────────┬────────────────────┐\n",
      "│  id   │      timestamp      │     tags     │        col3        │        col2        │        col1        │\n",
      "│ int64 │       varchar       │  varchar[]   │       double       │       double       │       double       │\n",
      "├───────┼─────────────────────┼──────────────┼────────────────────┼────────────────────┼────────────────────┤\n",
      "│     1 │ 2023-02-09T06:28:40 │ [b]          │  359.8701591734018 │               NULL │ 116.18588359611803 │\n",
      "│     2 │ 2023-05-14T23:19:16 │ [a, b]       │               NULL │               NULL │               NULL │\n",
      "│     3 │ 2023-06-20T22:06:01 │ NULL         │               NULL │               NULL │               NULL │\n",
      "│     4 │ 2023-02-01T09:24:39 │ [b, a, c]    │               NULL │  264.8946250873081 │ 153.48516545739275 │\n",
      "│     5 │ 2023-02-10T04:00:55 │ NULL         │               NULL │               NULL │               NULL │\n",
      "│     6 │ 2023-06-22T00:39:21 │ [b, a]       │ 390.15030359236647 │  224.4575259795596 │               NULL │\n",
      "│     7 │ 2023-07-19T03:39:52 │ [d, b]       │  344.1654722833825 │ 200.66933318979386 │               NULL │\n",
      "│     8 │ 2023-11-16T18:57:25 │ [b]          │ 318.59194254112924 │               NULL │               NULL │\n",
      "│     9 │ 2023-06-26T21:56:05 │ [d]          │ 331.81802543751616 │               NULL │ 164.56291322757346 │\n",
      "│    10 │ 2023-03-19T15:02:04 │ [d]          │  393.0434391894289 │               NULL │ 179.27596351197928 │\n",
      "│     · │          ·          │  ·           │                 ·  │                 ·  │          ·         │\n",
      "│     · │          ·          │  ·           │                 ·  │                 ·  │          ·         │\n",
      "│     · │          ·          │  ·           │                 ·  │                 ·  │          ·         │\n",
      "│   511 │ 2023-10-17T07:38:50 │ [b, a, d]    │               NULL │               NULL │ 102.10231208377425 │\n",
      "│   512 │ 2023-03-09T21:14:37 │ [a, c, d]    │  381.6796264395646 │ 297.74182769717976 │ 123.91315850316505 │\n",
      "│   513 │ 2023-12-05T04:59:45 │ [c, b, a, d] │               NULL │ 293.09368069075396 │               NULL │\n",
      "│   514 │ 2023-10-04T21:32:49 │ NULL         │               NULL │ 231.72214465782713 │               NULL │\n",
      "│   515 │ 2023-11-20T07:15:37 │ [c, d, b, a] │               NULL │               NULL │               NULL │\n",
      "│   516 │ 2023-05-30T05:37:32 │ [b]          │               NULL │               NULL │               NULL │\n",
      "│   517 │ 2023-06-18T02:03:18 │ [d, b, a]    │  397.7503205503484 │               NULL │ 102.19445324206498 │\n",
      "│   518 │ 2023-03-05T20:22:00 │ [b, a, c]    │  349.7620401772524 │               NULL │ 100.75848010640667 │\n",
      "│   519 │ 2023-10-02T08:09:04 │ [a, d]       │               NULL │  284.4056833240018 │ 185.63380754128457 │\n",
      "│   520 │ 2023-04-22T23:15:26 │ [c, d, b]    │               NULL │               NULL │               NULL │\n",
      "├───────┴─────────────────────┴──────────────┴────────────────────┴────────────────────┴────────────────────┤\n",
      "│ 125 rows (20 shown)                                                                             6 columns │\n",
      "└───────────────────────────────────────────────────────────────────────────────────────────────────────────┘\n",
      "\n"
     ]
    }
   ],
   "source": [
    "# UNION the results and save the query as a view:\n",
    "query = \"\"\"\n",
    "CREATE OR REPLACE VIEW all_records_view AS (\n",
    "    FROM read_parquet('data/*.parquet', union_by_name = true)\n",
    "    UNION ALL BY NAME\n",
    "    FROM read_json_auto('data/*.json', union_by_name = true)\n",
    ")\n",
    "\"\"\"\n",
    "duckdb.sql(query)\n",
    "duckdb.sql(\"FROM all_records_view ORDER BY id\").show()"
   ]
  },
  {
   "cell_type": "markdown",
   "metadata": {},
   "source": [
    "## 2. Explode tags and get Task 1 aggregates\n",
    "\n",
    "To aggregate by tags, we'll explode the tag lists, i.e. we create a row for every tag in a list of tags. In DuckDB this is done with the function `unnest()`."
   ]
  },
  {
   "cell_type": "code",
   "execution_count": 12,
   "metadata": {},
   "outputs": [
    {
     "name": "stdout",
     "output_type": "stream",
     "text": [
      "┌─────────┬────────────────────┬────────────────────┬───────────────────┐\n",
      "│   tag   │        col1        │        col2        │       col3        │\n",
      "│ varchar │       double       │       double       │      double       │\n",
      "├─────────┼────────────────────┼────────────────────┼───────────────────┤\n",
      "│ c       │               NULL │               NULL │              NULL │\n",
      "│ d       │               NULL │               NULL │              NULL │\n",
      "│ b       │               NULL │               NULL │              NULL │\n",
      "│ a       │               NULL │               NULL │              NULL │\n",
      "│ c       │               NULL │ 283.82011872170756 │ 344.4384086978107 │\n",
      "│ b       │               NULL │ 283.82011872170756 │ 344.4384086978107 │\n",
      "│ a       │               NULL │ 250.26658507608727 │ 300.2019868412024 │\n",
      "│ d       │               NULL │ 250.26658507608727 │ 300.2019868412024 │\n",
      "│ b       │               NULL │ 250.26658507608727 │ 300.2019868412024 │\n",
      "│ a       │ 134.37312613968828 │  240.8342356007753 │ 389.3784272049234 │\n",
      "│ ·       │          ·         │          ·         │                ·  │\n",
      "│ ·       │          ·         │          ·         │                ·  │\n",
      "│ ·       │          ·         │          ·         │                ·  │\n",
      "│ d       │ 143.98641559064527 │  287.1746673674819 │              NULL │\n",
      "│ b       │ 143.98641559064527 │  287.1746673674819 │              NULL │\n",
      "│ a       │ 120.81749276723106 │               NULL │ 319.8418122378131 │\n",
      "│ d       │ 120.81749276723106 │               NULL │ 319.8418122378131 │\n",
      "│ c       │ 135.60999299842663 │  234.9400446442523 │ 334.7288854427639 │\n",
      "│ b       │ 135.60999299842663 │  234.9400446442523 │ 334.7288854427639 │\n",
      "│ d       │               NULL │               NULL │              NULL │\n",
      "│ b       │               NULL │               NULL │              NULL │\n",
      "│ c       │               NULL │               NULL │              NULL │\n",
      "│ a       │               NULL │               NULL │              NULL │\n",
      "├─────────┴────────────────────┴────────────────────┴───────────────────┤\n",
      "│ 227 rows (20 shown)                                         4 columns │\n",
      "└───────────────────────────────────────────────────────────────────────┘\n",
      "\n"
     ]
    }
   ],
   "source": [
    "duckdb.sql(\"FROM all_records_view SELECT unnest(tags) AS tag, col1, col2, col3\").show()"
   ]
  },
  {
   "cell_type": "markdown",
   "metadata": {},
   "source": [
    "One thing to note is that `unnest()` effectively drops all rows without tags. We might want to keep them to get the aggregated values for rows with no tags. We can manually add them back with a simple UNION."
   ]
  },
  {
   "cell_type": "code",
   "execution_count": 16,
   "metadata": {},
   "outputs": [
    {
     "name": "stdout",
     "output_type": "stream",
     "text": [
      "┌─────────┬────────────────────┬────────────────────┬────────────────────┐\n",
      "│   tag   │        col1        │        col2        │        col3        │\n",
      "│ varchar │       double       │       double       │       double       │\n",
      "├─────────┼────────────────────┼────────────────────┼────────────────────┤\n",
      "│ c       │               NULL │               NULL │               NULL │\n",
      "│ d       │               NULL │               NULL │               NULL │\n",
      "│ b       │               NULL │               NULL │               NULL │\n",
      "│ a       │               NULL │               NULL │               NULL │\n",
      "│ c       │               NULL │ 283.82011872170756 │  344.4384086978107 │\n",
      "│ b       │               NULL │ 283.82011872170756 │  344.4384086978107 │\n",
      "│ a       │               NULL │ 250.26658507608727 │  300.2019868412024 │\n",
      "│ d       │               NULL │ 250.26658507608727 │  300.2019868412024 │\n",
      "│ b       │               NULL │ 250.26658507608727 │  300.2019868412024 │\n",
      "│ a       │ 134.37312613968828 │  240.8342356007753 │  389.3784272049234 │\n",
      "│ ·       │                 ·  │                 ·  │                 ·  │\n",
      "│ ·       │                 ·  │                 ·  │                 ·  │\n",
      "│ ·       │                 ·  │                 ·  │                 ·  │\n",
      "│ NO TAGS │               NULL │               NULL │               NULL │\n",
      "│ NO TAGS │               NULL │ 257.26321170690414 │ 363.26080273531676 │\n",
      "│ NO TAGS │ 135.79015788062995 │               NULL │  340.5055677048491 │\n",
      "│ NO TAGS │ 146.62579733009056 │               NULL │               NULL │\n",
      "│ NO TAGS │               NULL │               NULL │               NULL │\n",
      "│ NO TAGS │ 119.14269927813291 │               NULL │ 389.85828574858994 │\n",
      "│ NO TAGS │ 193.14706134250375 │               NULL │  386.8530329142853 │\n",
      "│ NO TAGS │ 184.98080489022925 │ 214.20138714458002 │               NULL │\n",
      "│ NO TAGS │               NULL │               NULL │               NULL │\n",
      "│ NO TAGS │ 137.67892579145462 │ 208.52386118256857 │               NULL │\n",
      "├─────────┴────────────────────┴────────────────────┴────────────────────┤\n",
      "│ 259 rows (20 shown)                                          4 columns │\n",
      "└────────────────────────────────────────────────────────────────────────┘\n",
      "\n"
     ]
    }
   ],
   "source": [
    "query = \"\"\"\n",
    "FROM all_records_view SELECT unnest(tags) AS tag, col1, col2, col3\n",
    "UNION ALL\n",
    "FROM all_records_view SELECT 'NO TAGS' AS tag, col1, col2, col3\n",
    "WHERE tags IS NULL\n",
    "\"\"\"\n",
    "duckdb.sql(query).show()"
   ]
  },
  {
   "cell_type": "markdown",
   "metadata": {},
   "source": [
    "Now all we are missing are the aggregates. Let's also save the result as a view."
   ]
  },
  {
   "cell_type": "code",
   "execution_count": 19,
   "metadata": {},
   "outputs": [
    {
     "name": "stdout",
     "output_type": "stream",
     "text": [
      "┌─────────┬─────────────┬────────────────────┬─────────────┬────────────────────┬─────────────┬────────────────────┐\n",
      "│   tag   │ count(col1) │     mean(col1)     │ count(col2) │     mean(col2)     │ count(col3) │     mean(col3)     │\n",
      "│ varchar │    int64    │       double       │    int64    │       double       │    int64    │       double       │\n",
      "├─────────┼─────────────┼────────────────────┼─────────────┼────────────────────┼─────────────┼────────────────────┤\n",
      "│ b       │          31 │ 141.89237957017806 │          30 │  243.4542142670114 │          35 │  350.7843464869098 │\n",
      "│ NO TAGS │          17 │ 148.85170712520218 │          16 │ 238.82129301737254 │          13 │  360.7105108776255 │\n",
      "│ c       │          19 │ 148.04043550462617 │          20 │  244.4782917085122 │          20 │  339.3808263120647 │\n",
      "│ a       │          26 │ 147.36241567052775 │          22 │ 244.83179086145273 │          29 │ 349.94927711507523 │\n",
      "│ d       │          20 │  150.4693243437674 │          17 │ 246.87694825760414 │          19 │ 351.87354047508893 │\n",
      "└─────────┴─────────────┴────────────────────┴─────────────┴────────────────────┴─────────────┴────────────────────┘\n",
      "\n"
     ]
    }
   ],
   "source": [
    "query = \"\"\"\n",
    "CREATE OR REPLACE VIEW task1 AS (\n",
    "    WITH cte AS (\n",
    "        FROM all_records_view SELECT unnest(tags) AS tag, col1, col2, col3\n",
    "        UNION ALL\n",
    "        FROM all_records_view SELECT 'NO TAGS' AS tag, col1, col2, col3\n",
    "        WHERE tags IS NULL\n",
    "    )\n",
    "    FROM cte SELECT tag, COUNT(col1), MEAN(col1), COUNT(col2), MEAN(col2), COUNT(col3), MEAN(col3)\n",
    "    GROUP BY tag\n",
    ")\n",
    "\"\"\"\n",
    "duckdb.sql(query)\n",
    "duckdb.sql(\"FROM task1\").show()"
   ]
  },
  {
   "cell_type": "markdown",
   "metadata": {},
   "source": [
    "## 3. Convert str timestamp to actual timestamp and extract month\n",
    "\n"
   ]
  },
  {
   "cell_type": "code",
   "execution_count": null,
   "metadata": {},
   "outputs": [],
   "source": []
  },
  {
   "cell_type": "markdown",
   "metadata": {},
   "source": [
    "## 4. Get tag ranks by month and get top tags as a list by month for Task 2\n",
    "\n"
   ]
  },
  {
   "cell_type": "code",
   "execution_count": null,
   "metadata": {},
   "outputs": [],
   "source": []
  },
  {
   "cell_type": "markdown",
   "metadata": {},
   "source": [
    "## 5. Connect and write results to Postgres\n",
    "\n"
   ]
  },
  {
   "cell_type": "code",
   "execution_count": null,
   "metadata": {},
   "outputs": [],
   "source": []
  }
 ],
 "metadata": {
  "kernelspec": {
   "display_name": "venv",
   "language": "python",
   "name": "python3"
  },
  "language_info": {
   "codemirror_mode": {
    "name": "ipython",
    "version": 3
   },
   "file_extension": ".py",
   "mimetype": "text/x-python",
   "name": "python",
   "nbconvert_exporter": "python",
   "pygments_lexer": "ipython3",
   "version": "3.10.12"
  }
 },
 "nbformat": 4,
 "nbformat_minor": 2
}
