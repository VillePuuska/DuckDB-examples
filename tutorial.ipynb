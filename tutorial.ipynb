{
 "cells": [
  {
   "cell_type": "markdown",
   "metadata": {},
   "source": [
    "# 1 - Getting started\n",
    "\n",
    "## First commands\n",
    "\n",
    "Getting DuckDB running is as simple as pip installing the package `duckdb` and importing it."
   ]
  },
  {
   "cell_type": "code",
   "execution_count": 1,
   "metadata": {},
   "outputs": [],
   "source": [
    "import duckdb"
   ]
  },
  {
   "cell_type": "markdown",
   "metadata": {},
   "source": [
    "If you don't need to persist the database after you're done with your session, you can immediately run queries against the database with `duckdb.sql`."
   ]
  },
  {
   "cell_type": "code",
   "execution_count": 2,
   "metadata": {},
   "outputs": [
    {
     "name": "stdout",
     "output_type": "stream",
     "text": [
      "<class 'duckdb.duckdb.DuckDBPyRelation'>\n",
      "┌────────────────┐\n",
      "│ 'Hello World!' │\n",
      "│    varchar     │\n",
      "├────────────────┤\n",
      "│ Hello World!   │\n",
      "└────────────────┘\n",
      "\n"
     ]
    }
   ],
   "source": [
    "query = \"\"\"\n",
    "SELECT 'Hello World!'\n",
    "\"\"\"\n",
    "res = duckdb.sql(query)\n",
    "print(type(res))\n",
    "print(res)"
   ]
  },
  {
   "cell_type": "markdown",
   "metadata": {},
   "source": [
    "You can directly print the result to see the result in the above format. Alternatively, the result object has a method .show() you can use instead."
   ]
  },
  {
   "cell_type": "code",
   "execution_count": 3,
   "metadata": {},
   "outputs": [
    {
     "name": "stdout",
     "output_type": "stream",
     "text": [
      "┌────────────────┐\n",
      "│ 'Hello World!' │\n",
      "│    varchar     │\n",
      "├────────────────┤\n",
      "│ Hello World!   │\n",
      "└────────────────┘\n",
      "\n"
     ]
    }
   ],
   "source": [
    "res.show()"
   ]
  },
  {
   "cell_type": "markdown",
   "metadata": {},
   "source": [
    "If and when you need to access the query results with Python, you can convert the result to\n",
    "- Python object with `res.fetchall()`\n",
    "- a Pandas DataFrame with `res.df()` or `res.to_df()`"
   ]
  },
  {
   "cell_type": "code",
   "execution_count": 4,
   "metadata": {},
   "outputs": [
    {
     "name": "stdout",
     "output_type": "stream",
     "text": [
      "[('Hello World!',)]\n"
     ]
    }
   ],
   "source": [
    "ls = res.fetchall()\n",
    "print(ls)"
   ]
  },
  {
   "cell_type": "code",
   "execution_count": 5,
   "metadata": {},
   "outputs": [
    {
     "name": "stdout",
     "output_type": "stream",
     "text": [
      "<class 'pandas.core.frame.DataFrame'>\n"
     ]
    },
    {
     "data": {
      "text/html": [
       "<div>\n",
       "<style scoped>\n",
       "    .dataframe tbody tr th:only-of-type {\n",
       "        vertical-align: middle;\n",
       "    }\n",
       "\n",
       "    .dataframe tbody tr th {\n",
       "        vertical-align: top;\n",
       "    }\n",
       "\n",
       "    .dataframe thead th {\n",
       "        text-align: right;\n",
       "    }\n",
       "</style>\n",
       "<table border=\"1\" class=\"dataframe\">\n",
       "  <thead>\n",
       "    <tr style=\"text-align: right;\">\n",
       "      <th></th>\n",
       "      <th>'Hello World!'</th>\n",
       "    </tr>\n",
       "  </thead>\n",
       "  <tbody>\n",
       "    <tr>\n",
       "      <th>0</th>\n",
       "      <td>Hello World!</td>\n",
       "    </tr>\n",
       "  </tbody>\n",
       "</table>\n",
       "</div>"
      ],
      "text/plain": [
       "  'Hello World!'\n",
       "0   Hello World!"
      ]
     },
     "execution_count": 5,
     "metadata": {},
     "output_type": "execute_result"
    }
   ],
   "source": [
    "df = res.df()\n",
    "print(type(df))\n",
    "df"
   ]
  },
  {
   "cell_type": "markdown",
   "metadata": {},
   "source": [
    "You can naturally create tables, insert values, create views and so on like in any database. "
   ]
  },
  {
   "cell_type": "code",
   "execution_count": 6,
   "metadata": {},
   "outputs": [
    {
     "data": {
      "text/plain": [
       "┌───────────────┐\n",
       "│     name      │\n",
       "│    varchar    │\n",
       "├───────────────┤\n",
       "│ another_table │\n",
       "│ test_table    │\n",
       "└───────────────┘"
      ]
     },
     "execution_count": 6,
     "metadata": {},
     "output_type": "execute_result"
    }
   ],
   "source": [
    "query = \"\"\"\n",
    "CREATE OR REPLACE TABLE test_table (\n",
    "    int_col INTEGER,\n",
    "    str_col VARCHAR\n",
    ");\n",
    "CREATE OR REPLACE TABLE another_table (\n",
    "    int_col INTEGER\n",
    ")\n",
    "\"\"\"\n",
    "duckdb.sql(query)\n",
    "duckdb.sql(\"SHOW TABLES\")"
   ]
  },
  {
   "cell_type": "code",
   "execution_count": 7,
   "metadata": {},
   "outputs": [
    {
     "data": {
      "text/plain": [
       "┌─────────┬─────────┐\n",
       "│ int_col │ str_col │\n",
       "│  int32  │ varchar │\n",
       "├─────────┼─────────┤\n",
       "│       1 │ Hello   │\n",
       "│       2 │         │\n",
       "│       3 │ World   │\n",
       "└─────────┴─────────┘"
      ]
     },
     "execution_count": 7,
     "metadata": {},
     "output_type": "execute_result"
    }
   ],
   "source": [
    "query = \"\"\"\n",
    "INSERT INTO test_table (int_col, str_col) VALUES\n",
    "    (1, 'Hello'),\n",
    "    (3, 'World'),\n",
    "    (2, ' ')\n",
    "\"\"\"\n",
    "duckdb.sql(query)\n",
    "duckdb.sql(\"FROM test_table ORDER BY int_col\")"
   ]
  },
  {
   "cell_type": "code",
   "execution_count": 8,
   "metadata": {},
   "outputs": [
    {
     "data": {
      "text/plain": [
       "┌─────────┬─────────┐\n",
       "│ int_col │ str_col │\n",
       "│  int32  │ varchar │\n",
       "├─────────┼─────────┤\n",
       "│       1 │ Hello   │\n",
       "│       3 │ World   │\n",
       "└─────────┴─────────┘"
      ]
     },
     "execution_count": 8,
     "metadata": {},
     "output_type": "execute_result"
    }
   ],
   "source": [
    "query = \"\"\"\n",
    "CREATE OR REPLACE VIEW test_view AS (\n",
    "    FROM test_table\n",
    "    WHERE str_col != ' '\n",
    ")\n",
    "\"\"\"\n",
    "duckdb.sql(query)\n",
    "duckdb.sql(\"FROM test_view ORDER BY int_col\")"
   ]
  },
  {
   "cell_type": "markdown",
   "metadata": {},
   "source": [
    "Note that in the DuckDB SQL dialect you can omit `SELECT *`. You can also\n",
    "- reorder `SELECT` and `FROM`, i.e. you can query `FROM table SELECT cols`,\n",
    "- exclude columns instead of listing all of the columns you want, i.e. `SELECT * EXCLUDE(cols, we, do, not, want) FROM table`,\n",
    "- group by all non-aggregated columns, i.e. `SELECT ... FROM table GROUP BY ALL`.\n",
    "See the [DuckDB documentation](https://duckdb.org/docs/sql/introduction) for the SQL syntax."
   ]
  },
  {
   "cell_type": "markdown",
   "metadata": {},
   "source": [
    "## Persisting the database\n",
    "\n",
    "If you want to persist your database in a file or open a previously saved database, you first need to create a connection to it and the use the connection instead of `duckdb` to run your queries. For example, the following cell either creates a new database to a file test.db or if the file already exists the cell loads it."
   ]
  },
  {
   "cell_type": "code",
   "execution_count": 9,
   "metadata": {},
   "outputs": [
    {
     "name": "stdout",
     "output_type": "stream",
     "text": [
      "┌────────────────┐\n",
      "│ 'Hello World!' │\n",
      "│    varchar     │\n",
      "├────────────────┤\n",
      "│ Hello World!   │\n",
      "└────────────────┘\n",
      "\n",
      "┌───────────────────┐\n",
      "│       name        │\n",
      "│      varchar      │\n",
      "├───────────────────┤\n",
      "│ yet_another_table │\n",
      "└───────────────────┘\n",
      "\n"
     ]
    }
   ],
   "source": [
    "conn = duckdb.connect(\"test.db\")\n",
    "query = \"\"\"\n",
    "SELECT 'Hello World!'\n",
    "\"\"\"\n",
    "conn.sql(query).show()\n",
    "\n",
    "query = \"\"\"\n",
    "CREATE OR REPLACE TABLE yet_another_table (\n",
    "    col INTEGER\n",
    ")\n",
    "\"\"\"\n",
    "conn.sql(query)\n",
    "conn.sql(\"SHOW TABLES\").show()"
   ]
  },
  {
   "cell_type": "markdown",
   "metadata": {},
   "source": [
    "## Extensions\n",
    "\n",
    "[Extensions](https://duckdb.org/docs/extensions/overview.html) allow you to add functionality to DuckDB. To see the list of extensions, you can use the `duckdb_extensions()` SQL function."
   ]
  },
  {
   "cell_type": "code",
   "execution_count": 10,
   "metadata": {},
   "outputs": [
    {
     "data": {
      "text/plain": [
       "┌──────────────────┬─────────┬───────────┬──────────────────────┬──────────────────────────────────┬───────────────────┐\n",
       "│  extension_name  │ loaded  │ installed │     install_path     │           description            │      aliases      │\n",
       "│     varchar      │ boolean │  boolean  │       varchar        │             varchar              │     varchar[]     │\n",
       "├──────────────────┼─────────┼───────────┼──────────────────────┼──────────────────────────────────┼───────────────────┤\n",
       "│ arrow            │ false   │ false     │                      │ A zero-copy data integration b…  │ []                │\n",
       "│ autocomplete     │ false   │ false     │                      │ Adds support for autocomplete …  │ []                │\n",
       "│ aws              │ false   │ false     │                      │ Provides features that depend …  │ []                │\n",
       "│ azure            │ false   │ false     │                      │ Adds a filesystem abstraction …  │ []                │\n",
       "│ excel            │ false   │ false     │                      │ Adds support for Excel-like fo…  │ []                │\n",
       "│ fts              │ false   │ true      │ (BUILT-IN)           │ Adds support for Full-Text Sea…  │ []                │\n",
       "│ httpfs           │ false   │ false     │                      │ Adds support for reading and w…  │ [http, https, s3] │\n",
       "│ iceberg          │ false   │ false     │                      │ Adds support for Apache Iceberg  │ []                │\n",
       "│ icu              │ true    │ true      │ (BUILT-IN)           │ Adds support for time zones an…  │ []                │\n",
       "│ inet             │ false   │ false     │                      │ Adds support for IP-related da…  │ []                │\n",
       "│ jemalloc         │ true    │ true      │ (BUILT-IN)           │ Overwrites system allocator wi…  │ []                │\n",
       "│ json             │ true    │ true      │ (BUILT-IN)           │ Adds support for JSON operations │ []                │\n",
       "│ motherduck       │ false   │ false     │                      │ Enables motherduck integration…  │ [md]              │\n",
       "│ mysql_scanner    │ false   │ false     │                      │ Adds support for connecting to…  │ [mysql]           │\n",
       "│ parquet          │ true    │ true      │ (BUILT-IN)           │ Adds support for reading and w…  │ []                │\n",
       "│ postgres_scanner │ false   │ true      │ /home/vipe/.duckdb…  │ Adds support for connecting to…  │ [postgres]        │\n",
       "│ spatial          │ false   │ false     │                      │ Geospatial extension that adds…  │ []                │\n",
       "│ sqlite_scanner   │ false   │ false     │                      │ Adds support for reading and w…  │ [sqlite, sqlite3] │\n",
       "│ substrait        │ false   │ false     │                      │ Adds support for the Substrait…  │ []                │\n",
       "│ tpcds            │ true    │ true      │ (BUILT-IN)           │ Adds TPC-DS data generation an…  │ []                │\n",
       "│ tpch             │ true    │ true      │ (BUILT-IN)           │ Adds TPC-H data generation and…  │ []                │\n",
       "│ visualizer       │ false   │ false     │                      │ Creates an HTML-based visualiz…  │ []                │\n",
       "├──────────────────┴─────────┴───────────┴──────────────────────┴──────────────────────────────────┴───────────────────┤\n",
       "│ 22 rows                                                                                                    6 columns │\n",
       "└──────────────────────────────────────────────────────────────────────────────────────────────────────────────────────┘"
      ]
     },
     "execution_count": 10,
     "metadata": {},
     "output_type": "execute_result"
    }
   ],
   "source": [
    "duckdb.sql(\"FROM duckdb_extensions()\")"
   ]
  },
  {
   "cell_type": "markdown",
   "metadata": {},
   "source": [
    "In this tutorial we will need the `postgres` extension, or `postgres_scanner` more specifically. If the extension is listed as not installed, let's install and load it now since we'll use it later."
   ]
  },
  {
   "cell_type": "code",
   "execution_count": 11,
   "metadata": {},
   "outputs": [],
   "source": [
    "duckdb.sql(\"INSTALL postgres\")\n",
    "duckdb.sql(\"LOAD postgres\")"
   ]
  },
  {
   "cell_type": "code",
   "execution_count": 12,
   "metadata": {},
   "outputs": [
    {
     "data": {
      "text/plain": [
       "┌──────────────────┬─────────┬───────────┬──────────────────────┬──────────────────────────────────┬───────────────────┐\n",
       "│  extension_name  │ loaded  │ installed │     install_path     │           description            │      aliases      │\n",
       "│     varchar      │ boolean │  boolean  │       varchar        │             varchar              │     varchar[]     │\n",
       "├──────────────────┼─────────┼───────────┼──────────────────────┼──────────────────────────────────┼───────────────────┤\n",
       "│ arrow            │ false   │ false     │                      │ A zero-copy data integration b…  │ []                │\n",
       "│ autocomplete     │ false   │ false     │                      │ Adds support for autocomplete …  │ []                │\n",
       "│ aws              │ false   │ false     │                      │ Provides features that depend …  │ []                │\n",
       "│ azure            │ false   │ false     │                      │ Adds a filesystem abstraction …  │ []                │\n",
       "│ excel            │ false   │ false     │                      │ Adds support for Excel-like fo…  │ []                │\n",
       "│ fts              │ false   │ true      │ (BUILT-IN)           │ Adds support for Full-Text Sea…  │ []                │\n",
       "│ httpfs           │ false   │ false     │                      │ Adds support for reading and w…  │ [http, https, s3] │\n",
       "│ iceberg          │ false   │ false     │                      │ Adds support for Apache Iceberg  │ []                │\n",
       "│ icu              │ true    │ true      │ (BUILT-IN)           │ Adds support for time zones an…  │ []                │\n",
       "│ inet             │ false   │ false     │                      │ Adds support for IP-related da…  │ []                │\n",
       "│ jemalloc         │ true    │ true      │ (BUILT-IN)           │ Overwrites system allocator wi…  │ []                │\n",
       "│ json             │ true    │ true      │ (BUILT-IN)           │ Adds support for JSON operations │ []                │\n",
       "│ motherduck       │ false   │ false     │                      │ Enables motherduck integration…  │ [md]              │\n",
       "│ mysql_scanner    │ false   │ false     │                      │ Adds support for connecting to…  │ [mysql]           │\n",
       "│ parquet          │ true    │ true      │ (BUILT-IN)           │ Adds support for reading and w…  │ []                │\n",
       "│ postgres_scanner │ true    │ true      │ /home/vipe/.duckdb…  │ Adds support for connecting to…  │ [postgres]        │\n",
       "│ spatial          │ false   │ false     │                      │ Geospatial extension that adds…  │ []                │\n",
       "│ sqlite_scanner   │ false   │ false     │                      │ Adds support for reading and w…  │ [sqlite, sqlite3] │\n",
       "│ substrait        │ false   │ false     │                      │ Adds support for the Substrait…  │ []                │\n",
       "│ tpcds            │ true    │ true      │ (BUILT-IN)           │ Adds TPC-DS data generation an…  │ []                │\n",
       "│ tpch             │ true    │ true      │ (BUILT-IN)           │ Adds TPC-H data generation and…  │ []                │\n",
       "│ visualizer       │ false   │ false     │                      │ Creates an HTML-based visualiz…  │ []                │\n",
       "├──────────────────┴─────────┴───────────┴──────────────────────┴──────────────────────────────────┴───────────────────┤\n",
       "│ 22 rows                                                                                                    6 columns │\n",
       "└──────────────────────────────────────────────────────────────────────────────────────────────────────────────────────┘"
      ]
     },
     "execution_count": 12,
     "metadata": {},
     "output_type": "execute_result"
    }
   ],
   "source": [
    "duckdb.sql(\"FROM duckdb_extensions()\")"
   ]
  },
  {
   "cell_type": "markdown",
   "metadata": {},
   "source": [
    "Note that you can also install and load extensions with the Python API functions `duckdb.install_extension` and `duckdb.load_extension`."
   ]
  },
  {
   "cell_type": "markdown",
   "metadata": {},
   "source": [
    "# 2 - Dataframes\n",
    "\n",
    "DuckDB can interact with Pandas and Polars dataframes in both ways, i.e. it can read dataframes and can convert query results to dataframes. See the documentation for full details: [Pandas](https://duckdb.org/docs/archive/0.9.2/guides/python/import_pandas), [Polars](https://duckdb.org/docs/archive/0.9.2/guides/python/polars).\n",
    "\n",
    "As an example, we'll load one of our generated example parquet-files with all three -- DuckDB, Pandas, and Polars -- and see how to convert between the three. If you haven't already, run the script `generate_example_data.py` before moving on. Note that to work with Pandas dataframes you only need to pip install Pandas, but to work with Polars dataframes you also need to install pyarrow."
   ]
  },
  {
   "cell_type": "code",
   "execution_count": 13,
   "metadata": {},
   "outputs": [],
   "source": [
    "import pandas as pd\n",
    "import polars as pl"
   ]
  },
  {
   "cell_type": "markdown",
   "metadata": {},
   "source": [
    "Let's first look at querying Pandas dataframes with duckdb. If you have named the dataframe e.g. `df_pandas`, you can refer to it in a SQL query in DuckDB just like you'd refer to a table."
   ]
  },
  {
   "cell_type": "code",
   "execution_count": 14,
   "metadata": {},
   "outputs": [
    {
     "data": {
      "text/plain": [
       "┌───────┬─────────────────────┬────────────────────┬──────────────┬────────────────────┬────────────────────┐\n",
       "│  id   │      timestamp      │        col1        │     tags     │        col2        │        col3        │\n",
       "│ int64 │       varchar       │       double       │  varchar[]   │       double       │       double       │\n",
       "├───────┼─────────────────────┼────────────────────┼──────────────┼────────────────────┼────────────────────┤\n",
       "│   101 │ 2023-08-02T10:27:27 │ 177.01076746932725 │ [c]          │               NULL │               NULL │\n",
       "│   102 │ 2023-08-16T02:21:15 │   117.618701151769 │ NULL         │               NULL │               NULL │\n",
       "│   103 │ 2023-08-22T11:47:38 │ 152.33804521058877 │ [d, a, c, b] │               NULL │               NULL │\n",
       "│   104 │ 2023-08-30T05:30:47 │               NULL │ [a]          │               NULL │               NULL │\n",
       "│   105 │ 2023-07-17T02:12:04 │  162.6884640053793 │ [b]          │  286.3033178107479 │  337.1563280516817 │\n",
       "│   106 │ 2023-02-15T08:03:10 │               NULL │ NULL         │               NULL │  307.9797265651567 │\n",
       "│   107 │ 2023-12-16T01:40:38 │               NULL │ [a, c, b]    │               NULL │  342.8700733124653 │\n",
       "│   108 │ 2023-12-12T16:06:33 │ 166.73894211781686 │ NULL         │ 214.35320948630144 │               NULL │\n",
       "│   109 │ 2023-09-09T11:19:50 │               NULL │ [c, b, a]    │               NULL │               NULL │\n",
       "│   110 │ 2023-10-20T23:37:05 │ 127.24160371818178 │ NULL         │ 286.39488341172665 │ 321.29895001287923 │\n",
       "│   111 │ 2023-12-17T22:15:12 │ 173.46023276594252 │ [b, d, a]    │               NULL │               NULL │\n",
       "│   112 │ 2023-01-18T13:04:23 │               NULL │ NULL         │ 218.00441587741508 │ 348.83701070593986 │\n",
       "│   113 │ 2023-07-13T03:16:03 │               NULL │ [a, c, b, d] │ 213.32765726314986 │ 328.89615538771267 │\n",
       "│   114 │ 2023-10-23T05:40:11 │               NULL │ [c]          │  287.9019031726858 │ 320.85688468154007 │\n",
       "│   115 │ 2023-02-13T18:44:34 │               NULL │ [d, a]       │               NULL │               NULL │\n",
       "│   116 │ 2023-02-13T04:22:11 │ 120.41640485377891 │ NULL         │  209.7407833915455 │ 380.04365976365807 │\n",
       "│   117 │ 2023-09-24T06:48:32 │ 142.69493472862075 │ [c, b, a]    │               NULL │               NULL │\n",
       "│   118 │ 2023-04-25T00:57:51 │ 162.83128035477503 │ NULL         │  203.7883607357085 │               NULL │\n",
       "│   119 │ 2023-01-18T20:27:29 │               NULL │ [b, c, a]    │               NULL │               NULL │\n",
       "│   120 │ 2023-08-26T10:36:36 │               NULL │ [a, c, b, d] │ 211.21399436585708 │  358.7148447236961 │\n",
       "├───────┴─────────────────────┴────────────────────┴──────────────┴────────────────────┴────────────────────┤\n",
       "│ 20 rows                                                                                         6 columns │\n",
       "└───────────────────────────────────────────────────────────────────────────────────────────────────────────┘"
      ]
     },
     "execution_count": 14,
     "metadata": {},
     "output_type": "execute_result"
    }
   ],
   "source": [
    "df_pandas = pd.read_parquet(\"data/df_1.parquet\")\n",
    "\n",
    "duckdb.sql(\"FROM df_pandas\")"
   ]
  },
  {
   "cell_type": "markdown",
   "metadata": {},
   "source": [
    "As we already saw in the previous section, we can call `.df()` or `.to_df()` in a DuckDB query result to convert it to a Pandas dataframe. For example, let's run a query to get all tags from the dataframe and convert it back to a Pandas dataframe."
   ]
  },
  {
   "cell_type": "code",
   "execution_count": 15,
   "metadata": {},
   "outputs": [
    {
     "data": {
      "text/html": [
       "<div>\n",
       "<style scoped>\n",
       "    .dataframe tbody tr th:only-of-type {\n",
       "        vertical-align: middle;\n",
       "    }\n",
       "\n",
       "    .dataframe tbody tr th {\n",
       "        vertical-align: top;\n",
       "    }\n",
       "\n",
       "    .dataframe thead th {\n",
       "        text-align: right;\n",
       "    }\n",
       "</style>\n",
       "<table border=\"1\" class=\"dataframe\">\n",
       "  <thead>\n",
       "    <tr style=\"text-align: right;\">\n",
       "      <th></th>\n",
       "      <th>tag</th>\n",
       "    </tr>\n",
       "  </thead>\n",
       "  <tbody>\n",
       "    <tr>\n",
       "      <th>0</th>\n",
       "      <td>a</td>\n",
       "    </tr>\n",
       "    <tr>\n",
       "      <th>1</th>\n",
       "      <td>b</td>\n",
       "    </tr>\n",
       "    <tr>\n",
       "      <th>2</th>\n",
       "      <td>c</td>\n",
       "    </tr>\n",
       "    <tr>\n",
       "      <th>3</th>\n",
       "      <td>d</td>\n",
       "    </tr>\n",
       "  </tbody>\n",
       "</table>\n",
       "</div>"
      ],
      "text/plain": [
       "  tag\n",
       "0   a\n",
       "1   b\n",
       "2   c\n",
       "3   d"
      ]
     },
     "execution_count": 15,
     "metadata": {},
     "output_type": "execute_result"
    }
   ],
   "source": [
    "# unnest explodes the lists in the tags-column so DISTINCT(unnest(tags)) gets all the tags that appear in the column\n",
    "duckdb.sql(\"SELECT DISTINCT(unnest(tags)) AS tag FROM df_pandas ORDER BY ALL\").df()"
   ]
  },
  {
   "cell_type": "markdown",
   "metadata": {},
   "source": [
    "Let's then see how to do the same steps with Polars instead. The only actual difference when working with Polars dataframes is that a duckdb query result is converted to a Polars dataframe with the `.pl()` method."
   ]
  },
  {
   "cell_type": "code",
   "execution_count": 16,
   "metadata": {},
   "outputs": [
    {
     "data": {
      "text/plain": [
       "┌───────┬─────────────────────┬────────────────────┬──────────────┬────────────────────┬────────────────────┐\n",
       "│  id   │      timestamp      │        col1        │     tags     │        col2        │        col3        │\n",
       "│ int64 │       varchar       │       double       │  varchar[]   │       double       │       double       │\n",
       "├───────┼─────────────────────┼────────────────────┼──────────────┼────────────────────┼────────────────────┤\n",
       "│   101 │ 2023-08-02T10:27:27 │ 177.01076746932725 │ [c]          │               NULL │               NULL │\n",
       "│   102 │ 2023-08-16T02:21:15 │   117.618701151769 │ NULL         │               NULL │               NULL │\n",
       "│   103 │ 2023-08-22T11:47:38 │ 152.33804521058877 │ [d, a, c, b] │               NULL │               NULL │\n",
       "│   104 │ 2023-08-30T05:30:47 │               NULL │ [a]          │               NULL │               NULL │\n",
       "│   105 │ 2023-07-17T02:12:04 │  162.6884640053793 │ [b]          │  286.3033178107479 │  337.1563280516817 │\n",
       "│   106 │ 2023-02-15T08:03:10 │               NULL │ NULL         │               NULL │  307.9797265651567 │\n",
       "│   107 │ 2023-12-16T01:40:38 │               NULL │ [a, c, b]    │               NULL │  342.8700733124653 │\n",
       "│   108 │ 2023-12-12T16:06:33 │ 166.73894211781686 │ NULL         │ 214.35320948630144 │               NULL │\n",
       "│   109 │ 2023-09-09T11:19:50 │               NULL │ [c, b, a]    │               NULL │               NULL │\n",
       "│   110 │ 2023-10-20T23:37:05 │ 127.24160371818178 │ NULL         │ 286.39488341172665 │ 321.29895001287923 │\n",
       "│   111 │ 2023-12-17T22:15:12 │ 173.46023276594252 │ [b, d, a]    │               NULL │               NULL │\n",
       "│   112 │ 2023-01-18T13:04:23 │               NULL │ NULL         │ 218.00441587741508 │ 348.83701070593986 │\n",
       "│   113 │ 2023-07-13T03:16:03 │               NULL │ [a, c, b, d] │ 213.32765726314986 │ 328.89615538771267 │\n",
       "│   114 │ 2023-10-23T05:40:11 │               NULL │ [c]          │  287.9019031726858 │ 320.85688468154007 │\n",
       "│   115 │ 2023-02-13T18:44:34 │               NULL │ [d, a]       │               NULL │               NULL │\n",
       "│   116 │ 2023-02-13T04:22:11 │ 120.41640485377891 │ NULL         │  209.7407833915455 │ 380.04365976365807 │\n",
       "│   117 │ 2023-09-24T06:48:32 │ 142.69493472862075 │ [c, b, a]    │               NULL │               NULL │\n",
       "│   118 │ 2023-04-25T00:57:51 │ 162.83128035477503 │ NULL         │  203.7883607357085 │               NULL │\n",
       "│   119 │ 2023-01-18T20:27:29 │               NULL │ [b, c, a]    │               NULL │               NULL │\n",
       "│   120 │ 2023-08-26T10:36:36 │               NULL │ [a, c, b, d] │ 211.21399436585708 │  358.7148447236961 │\n",
       "├───────┴─────────────────────┴────────────────────┴──────────────┴────────────────────┴────────────────────┤\n",
       "│ 20 rows                                                                                         6 columns │\n",
       "└───────────────────────────────────────────────────────────────────────────────────────────────────────────┘"
      ]
     },
     "execution_count": 16,
     "metadata": {},
     "output_type": "execute_result"
    }
   ],
   "source": [
    "df_polars = pl.read_parquet(\"data/df_1.parquet\")\n",
    "\n",
    "duckdb.sql(\"FROM df_polars\")"
   ]
  },
  {
   "cell_type": "code",
   "execution_count": 17,
   "metadata": {},
   "outputs": [
    {
     "data": {
      "text/html": [
       "<div><style>\n",
       ".dataframe > thead > tr,\n",
       ".dataframe > tbody > tr {\n",
       "  text-align: right;\n",
       "  white-space: pre-wrap;\n",
       "}\n",
       "</style>\n",
       "<small>shape: (4, 1)</small><table border=\"1\" class=\"dataframe\"><thead><tr><th>tag</th></tr><tr><td>str</td></tr></thead><tbody><tr><td>&quot;a&quot;</td></tr><tr><td>&quot;b&quot;</td></tr><tr><td>&quot;c&quot;</td></tr><tr><td>&quot;d&quot;</td></tr></tbody></table></div>"
      ],
      "text/plain": [
       "shape: (4, 1)\n",
       "┌─────┐\n",
       "│ tag │\n",
       "│ --- │\n",
       "│ str │\n",
       "╞═════╡\n",
       "│ a   │\n",
       "│ b   │\n",
       "│ c   │\n",
       "│ d   │\n",
       "└─────┘"
      ]
     },
     "execution_count": 17,
     "metadata": {},
     "output_type": "execute_result"
    }
   ],
   "source": [
    "duckdb.sql(\"SELECT DISTINCT(unnest(tags)) AS tag FROM df_pandas ORDER BY ALL\").pl()"
   ]
  },
  {
   "cell_type": "markdown",
   "metadata": {},
   "source": [
    "# 3 - Working with files\n",
    "\n",
    "DuckDB can read and write CSV, JSON, and Parquet files out of the box. You can add more filetypes with extensions. We'll look at examples of Parquet and JSON files. See the [documentation](https://duckdb.org/docs/archive/0.9.2/data/overview) for more information.\n",
    "\n",
    "## Reading files\n",
    "\n",
    "Reading from files can be as simple as querying the file as if it was a table in the database."
   ]
  },
  {
   "cell_type": "code",
   "execution_count": 18,
   "metadata": {},
   "outputs": [
    {
     "name": "stdout",
     "output_type": "stream",
     "text": [
      "┌───────┬─────────────────────┬───────────────────┬────────────────────┬───────────┐\n",
      "│  id   │      timestamp      │       col3        │        col1        │   tags    │\n",
      "│ int64 │       varchar       │      double       │       double       │ varchar[] │\n",
      "├───────┼─────────────────────┼───────────────────┼────────────────────┼───────────┤\n",
      "│     1 │ 2023-02-09T06:28:40 │ 359.8701591734018 │ 116.18588359611803 │ [b]       │\n",
      "└───────┴─────────────────────┴───────────────────┴────────────────────┴───────────┘\n",
      "\n",
      "┌───────┬─────────────────────┬────────────────────┬──────────────┬───────────────────┬───────────────────┐\n",
      "│  id   │      timestamp      │        col1        │     tags     │       col2        │       col3        │\n",
      "│ int64 │       varchar       │       double       │  varchar[]   │      double       │      double       │\n",
      "├───────┼─────────────────────┼────────────────────┼──────────────┼───────────────────┼───────────────────┤\n",
      "│   101 │ 2023-08-02T10:27:27 │ 177.01076746932725 │ [c]          │              NULL │              NULL │\n",
      "│   102 │ 2023-08-16T02:21:15 │   117.618701151769 │ NULL         │              NULL │              NULL │\n",
      "│   103 │ 2023-08-22T11:47:38 │ 152.33804521058877 │ [d, a, c, b] │              NULL │              NULL │\n",
      "│   104 │ 2023-08-30T05:30:47 │               NULL │ [a]          │              NULL │              NULL │\n",
      "│   105 │ 2023-07-17T02:12:04 │  162.6884640053793 │ [b]          │ 286.3033178107479 │ 337.1563280516817 │\n",
      "└───────┴─────────────────────┴────────────────────┴──────────────┴───────────────────┴───────────────────┘\n",
      "\n"
     ]
    }
   ],
   "source": [
    "duckdb.sql(\"FROM 'data/1_record.json'\").show()\n",
    "duckdb.sql(\"FROM 'data/df_1.parquet' LIMIT 5\").show()"
   ]
  },
  {
   "cell_type": "markdown",
   "metadata": {},
   "source": [
    "You also have the functions `read_csv_auto()`, `read_csv()`, `read_parquet()`, `read_json()` and `read_json_auto()` if you need more control or you need to set some parameters.\n",
    "\n",
    "DuckDB also supports reading multiple files by providing a list of filenames or by globbing. The files can even be of different filetypes. For example, if we want to read all of the Parquet-files in our `data/` directory, we can do it like this:"
   ]
  },
  {
   "cell_type": "code",
   "execution_count": 19,
   "metadata": {},
   "outputs": [
    {
     "name": "stdout",
     "output_type": "stream",
     "text": [
      "┌────────────────────┬────────────────────┬───────────────────┐\n",
      "│     mean(col1)     │     mean(col2)     │    mean(col3)     │\n",
      "│       double       │       double       │      double       │\n",
      "├────────────────────┼────────────────────┼───────────────────┤\n",
      "│ 148.70100274089907 │ 244.92375910066104 │ 349.7814695964642 │\n",
      "└────────────────────┴────────────────────┴───────────────────┘\n",
      "\n"
     ]
    }
   ],
   "source": [
    "duckdb.sql(\"FROM read_parquet('data/*.parquet', union_by_name = true) SELECT MEAN(col1), MEAN(col2), MEAN(col3)\").show()"
   ]
  },
  {
   "cell_type": "markdown",
   "metadata": {},
   "source": [
    "Note that we use the function `read_parquet()` with the parameter `union_by_name = true`. This tells DuckDB to combine the schemas of the files by name instead of position which is the default behavior. We need to do this since our randomly generated Parquet-files are not guaranteed to have the columns in the same order!\n",
    "\n",
    "If we want to read only the files `1_record.json` and `2_record.json` we can give the filenames as a list like this:"
   ]
  },
  {
   "cell_type": "code",
   "execution_count": 20,
   "metadata": {},
   "outputs": [
    {
     "name": "stdout",
     "output_type": "stream",
     "text": [
      "┌───────┬─────────────────────┬───────────────────┬────────────────────┬───────────┐\n",
      "│  id   │      timestamp      │       col3        │        col1        │   tags    │\n",
      "│ int64 │       varchar       │      double       │       double       │ varchar[] │\n",
      "├───────┼─────────────────────┼───────────────────┼────────────────────┼───────────┤\n",
      "│     1 │ 2023-02-09T06:28:40 │ 359.8701591734018 │ 116.18588359611803 │ [b]       │\n",
      "│     2 │ 2023-05-14T23:19:16 │              NULL │               NULL │ [a, b]    │\n",
      "└───────┴─────────────────────┴───────────────────┴────────────────────┴───────────┘\n",
      "\n"
     ]
    }
   ],
   "source": [
    "duckdb.sql(\"FROM read_json_auto(['data/1_record.json', 'data/2_record.json'], union_by_name = true)\").show()"
   ]
  },
  {
   "cell_type": "markdown",
   "metadata": {},
   "source": [
    "If instead of querying a file you want to read a file and write the data to a table in your database, you can use the [COPY ... FROM](https://duckdb.org/docs/sql/statements/copy#copy--from) statement. Two important caveats to note with COPY ... FROM:\n",
    "- the table must already exists so you cannot create a new table with COPY ... FROM,\n",
    "- the columns and their order must match between the table and file, i.e. you cannot match columns by their names.\n",
    "\n",
    "If you need to create a new table based on a file or if you need to infer the column order, COPY ... FROM is not enough on its own; you will need to use e.g. CREATE TABLE AS SELECT or INSERT INTO ... BY NAME statements. Namely, in our example where our files are generated randomly and the column orders are not fixed, we can not simply COPY ... FROM any of our files."
   ]
  },
  {
   "cell_type": "markdown",
   "metadata": {},
   "source": [
    "## Writing files\n",
    "\n",
    "Writing files is even simpler. You do it with the [COPY ... TO](https://duckdb.org/docs/sql/statements/copy#copy--to) statement. For example, if we'd like to read all of the records in the JSON-files, exclude the tags column, and write the result to a CSV-file, we can do it like this:"
   ]
  },
  {
   "cell_type": "code",
   "execution_count": 21,
   "metadata": {},
   "outputs": [],
   "source": [
    "query = \"\"\"\n",
    "COPY (\n",
    "    FROM read_json_auto('data/*.json', union_by_name = true)\n",
    "    SELECT * EXCLUDE(tags)\n",
    ")\n",
    "TO 'data/json-records.csv'\n",
    "\"\"\"\n",
    "duckdb.sql(query)"
   ]
  },
  {
   "cell_type": "markdown",
   "metadata": {},
   "source": [
    "See the [documentation](https://duckdb.org/docs/sql/statements/copy#copy--to) for all the format options."
   ]
  },
  {
   "cell_type": "markdown",
   "metadata": {},
   "source": [
    "# 4 - Interacting with databases"
   ]
  },
  {
   "cell_type": "code",
   "execution_count": null,
   "metadata": {},
   "outputs": [],
   "source": []
  },
  {
   "cell_type": "code",
   "execution_count": null,
   "metadata": {},
   "outputs": [],
   "source": []
  }
 ],
 "metadata": {
  "kernelspec": {
   "display_name": "venv",
   "language": "python",
   "name": "python3"
  },
  "language_info": {
   "codemirror_mode": {
    "name": "ipython",
    "version": 3
   },
   "file_extension": ".py",
   "mimetype": "text/x-python",
   "name": "python",
   "nbconvert_exporter": "python",
   "pygments_lexer": "ipython3",
   "version": "3.10.12"
  }
 },
 "nbformat": 4,
 "nbformat_minor": 2
}
