{
 "cells": [
  {
   "cell_type": "markdown",
   "metadata": {},
   "source": [
    "# 1 - Getting started\n",
    "\n",
    "## First commands\n",
    "\n",
    "Getting DuckDB running is as simple as pip installing the package `duckdb` and importing it."
   ]
  },
  {
   "cell_type": "code",
   "execution_count": 1,
   "metadata": {},
   "outputs": [],
   "source": [
    "import duckdb"
   ]
  },
  {
   "cell_type": "markdown",
   "metadata": {},
   "source": [
    "If you don't need to persist the database after you're done with your session, you can immediately run queries against the database with `duckdb.sql`."
   ]
  },
  {
   "cell_type": "code",
   "execution_count": 2,
   "metadata": {},
   "outputs": [
    {
     "name": "stdout",
     "output_type": "stream",
     "text": [
      "<class 'duckdb.duckdb.DuckDBPyRelation'>\n",
      "┌────────────────┐\n",
      "│ 'Hello World!' │\n",
      "│    varchar     │\n",
      "├────────────────┤\n",
      "│ Hello World!   │\n",
      "└────────────────┘\n",
      "\n"
     ]
    }
   ],
   "source": [
    "query = \"\"\"\n",
    "SELECT 'Hello World!'\n",
    "\"\"\"\n",
    "res = duckdb.sql(query)\n",
    "print(type(res))\n",
    "print(res)"
   ]
  },
  {
   "cell_type": "markdown",
   "metadata": {},
   "source": [
    "If and when you need to access the query results with Python, you can convert the result to\n",
    "- Python object with `res.fetchall()`\n",
    "- a Pandas DataFrame with `res.df()` or `res.to_df()`"
   ]
  },
  {
   "cell_type": "code",
   "execution_count": 3,
   "metadata": {},
   "outputs": [
    {
     "name": "stdout",
     "output_type": "stream",
     "text": [
      "[('Hello World!',)]\n"
     ]
    }
   ],
   "source": [
    "ls = res.fetchall()\n",
    "print(ls)"
   ]
  },
  {
   "cell_type": "code",
   "execution_count": 4,
   "metadata": {},
   "outputs": [
    {
     "name": "stdout",
     "output_type": "stream",
     "text": [
      "<class 'pandas.core.frame.DataFrame'>\n"
     ]
    },
    {
     "data": {
      "text/html": [
       "<div>\n",
       "<style scoped>\n",
       "    .dataframe tbody tr th:only-of-type {\n",
       "        vertical-align: middle;\n",
       "    }\n",
       "\n",
       "    .dataframe tbody tr th {\n",
       "        vertical-align: top;\n",
       "    }\n",
       "\n",
       "    .dataframe thead th {\n",
       "        text-align: right;\n",
       "    }\n",
       "</style>\n",
       "<table border=\"1\" class=\"dataframe\">\n",
       "  <thead>\n",
       "    <tr style=\"text-align: right;\">\n",
       "      <th></th>\n",
       "      <th>'Hello World!'</th>\n",
       "    </tr>\n",
       "  </thead>\n",
       "  <tbody>\n",
       "    <tr>\n",
       "      <th>0</th>\n",
       "      <td>Hello World!</td>\n",
       "    </tr>\n",
       "  </tbody>\n",
       "</table>\n",
       "</div>"
      ],
      "text/plain": [
       "  'Hello World!'\n",
       "0   Hello World!"
      ]
     },
     "execution_count": 4,
     "metadata": {},
     "output_type": "execute_result"
    }
   ],
   "source": [
    "df = res.df()\n",
    "print(type(df))\n",
    "df"
   ]
  },
  {
   "cell_type": "markdown",
   "metadata": {},
   "source": [
    "You can naturally create tables, insert values, create views and so on like in any database. "
   ]
  },
  {
   "cell_type": "code",
   "execution_count": 5,
   "metadata": {},
   "outputs": [
    {
     "data": {
      "text/plain": [
       "┌───────────────┐\n",
       "│     name      │\n",
       "│    varchar    │\n",
       "├───────────────┤\n",
       "│ another_table │\n",
       "│ test_table    │\n",
       "└───────────────┘"
      ]
     },
     "execution_count": 5,
     "metadata": {},
     "output_type": "execute_result"
    }
   ],
   "source": [
    "query = \"\"\"\n",
    "CREATE OR REPLACE TABLE test_table (\n",
    "    int_col INTEGER,\n",
    "    str_col VARCHAR\n",
    ");\n",
    "CREATE OR REPLACE TABLE another_table (\n",
    "    int_col INTEGER\n",
    ")\n",
    "\"\"\"\n",
    "duckdb.sql(query)\n",
    "duckdb.sql(\"SHOW TABLES\")"
   ]
  },
  {
   "cell_type": "code",
   "execution_count": 6,
   "metadata": {},
   "outputs": [
    {
     "data": {
      "text/plain": [
       "┌─────────┬─────────┐\n",
       "│ int_col │ str_col │\n",
       "│  int32  │ varchar │\n",
       "├─────────┼─────────┤\n",
       "│       1 │ Hello   │\n",
       "│       2 │         │\n",
       "│       3 │ World   │\n",
       "└─────────┴─────────┘"
      ]
     },
     "execution_count": 6,
     "metadata": {},
     "output_type": "execute_result"
    }
   ],
   "source": [
    "query = \"\"\"\n",
    "INSERT INTO test_table (int_col, str_col) VALUES\n",
    "    (1, 'Hello'),\n",
    "    (3, 'World'),\n",
    "    (2, ' ')\n",
    "\"\"\"\n",
    "duckdb.sql(query)\n",
    "duckdb.sql(\"FROM test_table ORDER BY int_col\")"
   ]
  },
  {
   "cell_type": "code",
   "execution_count": 7,
   "metadata": {},
   "outputs": [
    {
     "data": {
      "text/plain": [
       "┌─────────┬─────────┐\n",
       "│ int_col │ str_col │\n",
       "│  int32  │ varchar │\n",
       "├─────────┼─────────┤\n",
       "│       1 │ Hello   │\n",
       "│       3 │ World   │\n",
       "└─────────┴─────────┘"
      ]
     },
     "execution_count": 7,
     "metadata": {},
     "output_type": "execute_result"
    }
   ],
   "source": [
    "query = \"\"\"\n",
    "CREATE OR REPLACE VIEW test_view AS (\n",
    "    FROM test_table\n",
    "    WHERE str_col != ' '\n",
    ")\n",
    "\"\"\"\n",
    "duckdb.sql(query)\n",
    "duckdb.sql(\"FROM test_view ORDER BY int_col\")"
   ]
  },
  {
   "cell_type": "markdown",
   "metadata": {},
   "source": [
    "Note that in the DuckDB SQL dialect you can omit `SELECT *`. You can also\n",
    "- reorder `SELECT` and `FROM`, i.e. you can query `FROM table SELECT cols`,\n",
    "- exclude columns instead of listing all of the columns you want, i.e. `SELECT * EXCLUDE(cols, we, do, not, want) FROM table`,\n",
    "- group by all non-aggregated columns, i.e. `SELECT ... FROM table GROUP BY ALL`.\n",
    "See the [DuckDB documentation](https://duckdb.org/docs/sql/introduction) for the SQL syntax."
   ]
  },
  {
   "cell_type": "markdown",
   "metadata": {},
   "source": [
    "## Persisting the database"
   ]
  },
  {
   "cell_type": "code",
   "execution_count": null,
   "metadata": {},
   "outputs": [],
   "source": []
  },
  {
   "cell_type": "markdown",
   "metadata": {},
   "source": [
    "## Extensions\n",
    "\n",
    "[Extensions](https://duckdb.org/docs/extensions/overview.html) allow you to add functionality to DuckDB. To see the list of extensions, you can use the `duckdb_extensions()` SQL function."
   ]
  },
  {
   "cell_type": "code",
   "execution_count": 8,
   "metadata": {},
   "outputs": [
    {
     "data": {
      "text/plain": [
       "┌──────────────────┬─────────┬───────────┬──────────────────────┬──────────────────────────────────┬───────────────────┐\n",
       "│  extension_name  │ loaded  │ installed │     install_path     │           description            │      aliases      │\n",
       "│     varchar      │ boolean │  boolean  │       varchar        │             varchar              │     varchar[]     │\n",
       "├──────────────────┼─────────┼───────────┼──────────────────────┼──────────────────────────────────┼───────────────────┤\n",
       "│ arrow            │ false   │ false     │                      │ A zero-copy data integration b…  │ []                │\n",
       "│ autocomplete     │ false   │ false     │                      │ Adds support for autocomplete …  │ []                │\n",
       "│ aws              │ false   │ false     │                      │ Provides features that depend …  │ []                │\n",
       "│ azure            │ false   │ false     │                      │ Adds a filesystem abstraction …  │ []                │\n",
       "│ excel            │ false   │ false     │                      │ Adds support for Excel-like fo…  │ []                │\n",
       "│ fts              │ false   │ true      │ (BUILT-IN)           │ Adds support for Full-Text Sea…  │ []                │\n",
       "│ httpfs           │ false   │ false     │                      │ Adds support for reading and w…  │ [http, https, s3] │\n",
       "│ iceberg          │ false   │ false     │                      │ Adds support for Apache Iceberg  │ []                │\n",
       "│ icu              │ true    │ true      │ (BUILT-IN)           │ Adds support for time zones an…  │ []                │\n",
       "│ inet             │ false   │ false     │                      │ Adds support for IP-related da…  │ []                │\n",
       "│ jemalloc         │ true    │ true      │ (BUILT-IN)           │ Overwrites system allocator wi…  │ []                │\n",
       "│ json             │ true    │ true      │ (BUILT-IN)           │ Adds support for JSON operations │ []                │\n",
       "│ motherduck       │ false   │ false     │                      │ Enables motherduck integration…  │ [md]              │\n",
       "│ mysql_scanner    │ false   │ false     │                      │ Adds support for connecting to…  │ [mysql]           │\n",
       "│ parquet          │ true    │ true      │ (BUILT-IN)           │ Adds support for reading and w…  │ []                │\n",
       "│ postgres_scanner │ false   │ true      │ /home/vipe/.duckdb…  │ Adds support for connecting to…  │ [postgres]        │\n",
       "│ spatial          │ false   │ false     │                      │ Geospatial extension that adds…  │ []                │\n",
       "│ sqlite_scanner   │ false   │ false     │                      │ Adds support for reading and w…  │ [sqlite, sqlite3] │\n",
       "│ substrait        │ false   │ false     │                      │ Adds support for the Substrait…  │ []                │\n",
       "│ tpcds            │ true    │ true      │ (BUILT-IN)           │ Adds TPC-DS data generation an…  │ []                │\n",
       "│ tpch             │ true    │ true      │ (BUILT-IN)           │ Adds TPC-H data generation and…  │ []                │\n",
       "│ visualizer       │ false   │ false     │                      │ Creates an HTML-based visualiz…  │ []                │\n",
       "├──────────────────┴─────────┴───────────┴──────────────────────┴──────────────────────────────────┴───────────────────┤\n",
       "│ 22 rows                                                                                                    6 columns │\n",
       "└──────────────────────────────────────────────────────────────────────────────────────────────────────────────────────┘"
      ]
     },
     "execution_count": 8,
     "metadata": {},
     "output_type": "execute_result"
    }
   ],
   "source": [
    "duckdb.sql(\"FROM duckdb_extensions()\")"
   ]
  },
  {
   "cell_type": "markdown",
   "metadata": {},
   "source": [
    "In this tutorial we will need the `postgres` extension, or `postgres_scanner` more specifically. If the extension is listed as not installed, let's install and load it now since we'll use it later."
   ]
  },
  {
   "cell_type": "code",
   "execution_count": 9,
   "metadata": {},
   "outputs": [],
   "source": [
    "duckdb.sql(\"INSTALL postgres\")\n",
    "duckdb.sql(\"LOAD postgres\")"
   ]
  },
  {
   "cell_type": "code",
   "execution_count": 10,
   "metadata": {},
   "outputs": [
    {
     "data": {
      "text/plain": [
       "┌──────────────────┬─────────┬───────────┬──────────────────────┬──────────────────────────────────┬───────────────────┐\n",
       "│  extension_name  │ loaded  │ installed │     install_path     │           description            │      aliases      │\n",
       "│     varchar      │ boolean │  boolean  │       varchar        │             varchar              │     varchar[]     │\n",
       "├──────────────────┼─────────┼───────────┼──────────────────────┼──────────────────────────────────┼───────────────────┤\n",
       "│ arrow            │ false   │ false     │                      │ A zero-copy data integration b…  │ []                │\n",
       "│ autocomplete     │ false   │ false     │                      │ Adds support for autocomplete …  │ []                │\n",
       "│ aws              │ false   │ false     │                      │ Provides features that depend …  │ []                │\n",
       "│ azure            │ false   │ false     │                      │ Adds a filesystem abstraction …  │ []                │\n",
       "│ excel            │ false   │ false     │                      │ Adds support for Excel-like fo…  │ []                │\n",
       "│ fts              │ false   │ true      │ (BUILT-IN)           │ Adds support for Full-Text Sea…  │ []                │\n",
       "│ httpfs           │ false   │ false     │                      │ Adds support for reading and w…  │ [http, https, s3] │\n",
       "│ iceberg          │ false   │ false     │                      │ Adds support for Apache Iceberg  │ []                │\n",
       "│ icu              │ true    │ true      │ (BUILT-IN)           │ Adds support for time zones an…  │ []                │\n",
       "│ inet             │ false   │ false     │                      │ Adds support for IP-related da…  │ []                │\n",
       "│ jemalloc         │ true    │ true      │ (BUILT-IN)           │ Overwrites system allocator wi…  │ []                │\n",
       "│ json             │ true    │ true      │ (BUILT-IN)           │ Adds support for JSON operations │ []                │\n",
       "│ motherduck       │ false   │ false     │                      │ Enables motherduck integration…  │ [md]              │\n",
       "│ mysql_scanner    │ false   │ false     │                      │ Adds support for connecting to…  │ [mysql]           │\n",
       "│ parquet          │ true    │ true      │ (BUILT-IN)           │ Adds support for reading and w…  │ []                │\n",
       "│ postgres_scanner │ true    │ true      │ /home/vipe/.duckdb…  │ Adds support for connecting to…  │ [postgres]        │\n",
       "│ spatial          │ false   │ false     │                      │ Geospatial extension that adds…  │ []                │\n",
       "│ sqlite_scanner   │ false   │ false     │                      │ Adds support for reading and w…  │ [sqlite, sqlite3] │\n",
       "│ substrait        │ false   │ false     │                      │ Adds support for the Substrait…  │ []                │\n",
       "│ tpcds            │ true    │ true      │ (BUILT-IN)           │ Adds TPC-DS data generation an…  │ []                │\n",
       "│ tpch             │ true    │ true      │ (BUILT-IN)           │ Adds TPC-H data generation and…  │ []                │\n",
       "│ visualizer       │ false   │ false     │                      │ Creates an HTML-based visualiz…  │ []                │\n",
       "├──────────────────┴─────────┴───────────┴──────────────────────┴──────────────────────────────────┴───────────────────┤\n",
       "│ 22 rows                                                                                                    6 columns │\n",
       "└──────────────────────────────────────────────────────────────────────────────────────────────────────────────────────┘"
      ]
     },
     "execution_count": 10,
     "metadata": {},
     "output_type": "execute_result"
    }
   ],
   "source": [
    "duckdb.sql(\"FROM duckdb_extensions()\")"
   ]
  },
  {
   "cell_type": "markdown",
   "metadata": {},
   "source": [
    "Note that you can also install and load extensions with the Python API functions `duckdb.install_extension` and `duckdb.load_extension`."
   ]
  },
  {
   "cell_type": "markdown",
   "metadata": {},
   "source": [
    "# 2 - Dataframes"
   ]
  },
  {
   "cell_type": "code",
   "execution_count": 11,
   "metadata": {},
   "outputs": [],
   "source": [
    "import pandas as pd\n",
    "import polars as pl"
   ]
  },
  {
   "cell_type": "markdown",
   "metadata": {},
   "source": [
    "# 3 - Working with files"
   ]
  },
  {
   "cell_type": "code",
   "execution_count": null,
   "metadata": {},
   "outputs": [],
   "source": []
  },
  {
   "cell_type": "markdown",
   "metadata": {},
   "source": [
    "# 4 - Interacting with databases"
   ]
  },
  {
   "cell_type": "code",
   "execution_count": null,
   "metadata": {},
   "outputs": [],
   "source": []
  },
  {
   "cell_type": "code",
   "execution_count": null,
   "metadata": {},
   "outputs": [],
   "source": []
  }
 ],
 "metadata": {
  "kernelspec": {
   "display_name": "venv",
   "language": "python",
   "name": "python3"
  },
  "language_info": {
   "codemirror_mode": {
    "name": "ipython",
    "version": 3
   },
   "file_extension": ".py",
   "mimetype": "text/x-python",
   "name": "python",
   "nbconvert_exporter": "python",
   "pygments_lexer": "ipython3",
   "version": "3.10.12"
  }
 },
 "nbformat": 4,
 "nbformat_minor": 2
}
