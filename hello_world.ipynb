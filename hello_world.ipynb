{
 "cells": [
  {
   "cell_type": "code",
   "execution_count": 1,
   "metadata": {},
   "outputs": [],
   "source": [
    "import duckdb"
   ]
  },
  {
   "cell_type": "code",
   "execution_count": 2,
   "metadata": {},
   "outputs": [],
   "source": [
    "query = \"\"\"\n",
    "SELECT 'Hello World!'\n",
    "\"\"\"\n",
    "res = duckdb.sql(query).fetchall()"
   ]
  },
  {
   "cell_type": "code",
   "execution_count": 3,
   "metadata": {},
   "outputs": [
    {
     "name": "stdout",
     "output_type": "stream",
     "text": [
      "[('Hello World!',)]\n",
      "<class 'list'>\n",
      "<class 'tuple'>\n",
      "<class 'str'>\n"
     ]
    }
   ],
   "source": [
    "print(res)\n",
    "print(type(res))\n",
    "print(type(res[0]))\n",
    "print(type(res[0][0]))"
   ]
  },
  {
   "cell_type": "code",
   "execution_count": 4,
   "metadata": {},
   "outputs": [
    {
     "data": {
      "text/plain": [
       "┌────────────────┐\n",
       "│ 'Hello World!' │\n",
       "│    varchar     │\n",
       "├────────────────┤\n",
       "│ Hello World!   │\n",
       "└────────────────┘"
      ]
     },
     "execution_count": 4,
     "metadata": {},
     "output_type": "execute_result"
    }
   ],
   "source": [
    "duckdb.sql(query)"
   ]
  },
  {
   "cell_type": "code",
   "execution_count": 5,
   "metadata": {},
   "outputs": [
    {
     "name": "stdout",
     "output_type": "stream",
     "text": [
      "<class 'NoneType'>\n"
     ]
    }
   ],
   "source": [
    "query = \"\"\"\n",
    "CREATE OR REPLACE TABLE test_table (\n",
    "    int_col INTEGER,\n",
    "    str_col VARCHAR\n",
    ");\n",
    "CREATE OR REPLACE TABLE another_table (\n",
    "    int_col INTEGER\n",
    ")\n",
    "\"\"\"\n",
    "res = duckdb.sql(query)\n",
    "print(type(res))"
   ]
  },
  {
   "cell_type": "code",
   "execution_count": 6,
   "metadata": {},
   "outputs": [
    {
     "data": {
      "text/plain": [
       "┌───────────────┐\n",
       "│     name      │\n",
       "│    varchar    │\n",
       "├───────────────┤\n",
       "│ another_table │\n",
       "│ test_table    │\n",
       "└───────────────┘"
      ]
     },
     "execution_count": 6,
     "metadata": {},
     "output_type": "execute_result"
    }
   ],
   "source": [
    "duckdb.sql(\"SHOW TABLES\")"
   ]
  },
  {
   "cell_type": "code",
   "execution_count": 7,
   "metadata": {},
   "outputs": [],
   "source": [
    "query = \"\"\"\n",
    "INSERT INTO test_table (int_col, str_col) VALUES\n",
    "    (1, 'Hello'),\n",
    "    (3, 'World'),\n",
    "    (2, ' ')\n",
    "\"\"\"\n",
    "duckdb.sql(query)"
   ]
  },
  {
   "cell_type": "code",
   "execution_count": 8,
   "metadata": {},
   "outputs": [
    {
     "data": {
      "text/plain": [
       "┌─────────┬─────────┐\n",
       "│ int_col │ str_col │\n",
       "│  int32  │ varchar │\n",
       "├─────────┼─────────┤\n",
       "│       1 │ Hello   │\n",
       "│       2 │         │\n",
       "│       3 │ World   │\n",
       "└─────────┴─────────┘"
      ]
     },
     "execution_count": 8,
     "metadata": {},
     "output_type": "execute_result"
    }
   ],
   "source": [
    "duckdb.sql(\"FROM test_table ORDER BY int_col\")"
   ]
  },
  {
   "cell_type": "code",
   "execution_count": null,
   "metadata": {},
   "outputs": [],
   "source": []
  }
 ],
 "metadata": {
  "kernelspec": {
   "display_name": "venv",
   "language": "python",
   "name": "python3"
  },
  "language_info": {
   "codemirror_mode": {
    "name": "ipython",
    "version": 3
   },
   "file_extension": ".py",
   "mimetype": "text/x-python",
   "name": "python",
   "nbconvert_exporter": "python",
   "pygments_lexer": "ipython3",
   "version": "3.10.12"
  }
 },
 "nbformat": 4,
 "nbformat_minor": 2
}
